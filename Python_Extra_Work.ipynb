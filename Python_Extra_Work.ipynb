{
 "cells": [
  {
   "cell_type": "code",
   "execution_count": 1,
   "metadata": {},
   "outputs": [
    {
     "name": "stdout",
     "output_type": "stream",
     "text": [
      "H \n",
      "H H \n",
      "H H H \n",
      "H H H H \n",
      "H H H H H \n"
     ]
    }
   ],
   "source": [
    "for i in range(0, 5):\n",
    "    for j in range(0, i+1):\n",
    "        print(\"H \",end=\"\")\n",
    "    print()"
   ]
  },
  {
   "cell_type": "code",
   "execution_count": 2,
   "metadata": {},
   "outputs": [
    {
     "name": "stdout",
     "output_type": "stream",
     "text": [
      "        *  \n",
      "      *  *  \n",
      "    *  *  *  \n",
      "  *  *  *  *  \n",
      "*  *  *  *  *  \n"
     ]
    }
   ],
   "source": [
    "k = 8\n",
    "for i in range(0, 5):\n",
    "    for j in range(0, k):\n",
    "        print(end=\" \")\n",
    "    k = k - 2\n",
    "    for j in range(0, i+1):\n",
    "        print(\"* \", end=\" \")\n",
    "    print()"
   ]
  },
  {
   "cell_type": "code",
   "execution_count": 3,
   "metadata": {},
   "outputs": [
    {
     "name": "stdout",
     "output_type": "stream",
     "text": [
      "1 \n",
      "2 3 \n",
      "4 5 6 \n",
      "7 8 9 10 \n",
      "11 12 13 14 15 \n"
     ]
    }
   ],
   "source": [
    "n = 1\n",
    "for i in range(0, 5):\n",
    "    for j in range(0, i+1):\n",
    "        print(n, end=\" \")\n",
    "        n = n + 1\n",
    "    print()"
   ]
  },
  {
   "cell_type": "code",
   "execution_count": 4,
   "metadata": {},
   "outputs": [
    {
     "name": "stdout",
     "output_type": "stream",
     "text": [
      "1 \n",
      "1 2 \n",
      "1 2 3 \n",
      "1 2 3 4 \n",
      "1 2 3 4 5 \n"
     ]
    }
   ],
   "source": [
    "num = 1\n",
    "for i in range(0, 5):\n",
    "    num = 1\n",
    "    for j in range(0, i+1):\n",
    "        print(num, end=\" \")\n",
    "        num = num + 1\n",
    "    print()"
   ]
  },
  {
   "cell_type": "code",
   "execution_count": 5,
   "metadata": {},
   "outputs": [
    {
     "name": "stdout",
     "output_type": "stream",
     "text": [
      "                  * \n",
      "                * * * \n",
      "              * * * * * \n",
      "            * * * * * * * \n",
      "          * * * * * * * * * \n",
      "        * * * * * * * * * * * \n",
      "      * * * * * * * * * * * * * \n",
      "    * * * * * * * * * * * * * * * \n",
      "  * * * * * * * * * * * * * * * * * \n",
      "* * * * * * * * * * * * * * * * * * * \n"
     ]
    }
   ],
   "source": [
    "k = 0\n",
    "r = 10\n",
    "for i in range(1, r+1):\n",
    "        for space in range(1, (r-i)+1):\n",
    "            print(end=\"  \")\n",
    "        while k != (2*i-1):\n",
    "            print(\"* \", end=\"\")\n",
    "            k = k + 1\n",
    "        k = 0\n",
    "        print()"
   ]
  },
  {
   "cell_type": "code",
   "execution_count": 8,
   "metadata": {},
   "outputs": [
    {
     "name": "stdout",
     "output_type": "stream",
     "text": [
      "* * * * * * * * \n",
      "* * * * * * * \n",
      "* * * * * * \n",
      "* * * * * \n",
      "* * * * \n",
      "* * * \n",
      "* * \n",
      "* \n"
     ]
    }
   ],
   "source": [
    "for i in range(0, 8):\n",
    "    for j in range(8, i, -1):\n",
    "        print(\"* \", end=\"\")\n",
    "    print()"
   ]
  },
  {
   "cell_type": "markdown",
   "metadata": {},
   "source": [
    "Roll a Dice"
   ]
  },
  {
   "cell_type": "code",
   "execution_count": 18,
   "metadata": {},
   "outputs": [
    {
     "name": "stdout",
     "output_type": "stream",
     "text": [
      "Do you like to roll the dice?yess\n",
      "Input not recognized. Enter yes or no\n",
      "Do you like to roll the dice? yes\n",
      "The number is: 5\n",
      "Do you like to play again? yesss\n",
      "Input not recognize.Ener yes or no\n",
      "Do you like to play again? yes\n",
      "The number is: 5\n",
      "Do you like to play again? no\n",
      "Game Over\n"
     ]
    }
   ],
   "source": [
    "import random\n",
    "\n",
    "def dice_rolling():\n",
    "    \n",
    "    while True:\n",
    "        print(\"The number is: \" + str(random.randint(1,6)))\n",
    "        play_again = input(\"Do you like to play again? \")\n",
    "        \n",
    "        while play_again != 'yes':\n",
    "            if play_again == 'no':\n",
    "                return print(\"Game Over\")\n",
    "            else:\n",
    "                print(\"Input not recognize.Ener yes or no\")\n",
    "                play_again = input(\"Do you like to play again? \")\n",
    "\n",
    "def main():\n",
    "    game_start = input(\"Do you like to roll the dice?\")\n",
    "    if game_start == 'yes':\n",
    "        dice_rolling()\n",
    "    else:\n",
    "        print(\"Input not recognized. Enter yes or no\")\n",
    "        play_again = input(\"Do you like to roll the dice? \")\n",
    "        dice_rolling()\n",
    "\n",
    "if __name__ == '__main__':\n",
    "    main()"
   ]
  },
  {
   "cell_type": "code",
   "execution_count": null,
   "metadata": {
    "collapsed": true
   },
   "outputs": [],
   "source": []
  }
 ],
 "metadata": {
  "kernelspec": {
   "display_name": "Python 3",
   "language": "python",
   "name": "python3"
  },
  "language_info": {
   "codemirror_mode": {
    "name": "ipython",
    "version": 3
   },
   "file_extension": ".py",
   "mimetype": "text/x-python",
   "name": "python",
   "nbconvert_exporter": "python",
   "pygments_lexer": "ipython3",
   "version": "3.6.1"
  }
 },
 "nbformat": 4,
 "nbformat_minor": 2
}
